{
 "cells": [
  {
   "cell_type": "markdown",
   "metadata": {},
   "source": [
    "# **Intrinsic evaluation of KPMiner, MPRank & EmbedRank**"
   ]
  },
  {
   "cell_type": "code",
   "execution_count": 2,
   "metadata": {},
   "outputs": [],
   "source": [
    "from datasets import load_dataset\n",
    "\n",
    "from util.evaluation_metrics import *\n",
    "from util.evaluation_util import *"
   ]
  },
  {
   "cell_type": "markdown",
   "metadata": {},
   "source": [
    "## **0. Preprocessing of dataset**"
   ]
  },
  {
   "cell_type": "code",
   "execution_count": 3,
   "metadata": {},
   "outputs": [
    {
     "data": {
      "application/vnd.jupyter.widget-view+json": {
       "model_id": "9feea61895a243efb781fa1a3fed6ba0",
       "version_major": 2,
       "version_minor": 0
      },
      "text/plain": [
       "  0%|          | 0/100 [00:00<?, ?it/s]"
      ]
     },
     "metadata": {},
     "output_type": "display_data"
    }
   ],
   "source": [
    "semeval2010 = load_dataset(\"midas/semeval2010\", \"raw\") \n",
    "test_docs, test_references = preprocess_dataset(semeval2010, \"test\")"
   ]
  },
  {
   "cell_type": "markdown",
   "metadata": {},
   "source": [
    "## **1. KPMiner**"
   ]
  },
  {
   "cell_type": "markdown",
   "metadata": {},
   "source": [
    "**Note:** The same optimal hyperparameters were found using the exact-match & partial-match evaluation metrics."
   ]
  },
  {
   "cell_type": "code",
   "execution_count": null,
   "metadata": {},
   "outputs": [],
   "source": [
    "# df = pke.pke.load_document_frequency_file(\"df-semeval2010.tsv.gz\")\n",
    "# n_to_alpha_sigma = {5: (2.2, 2.8), 10: (2.2, 2.8), 15: (2.2, 2.8)}\n",
    "# extractor = pke.unsupervised.KPMiner()\n",
    "\n",
    "# n_to_extr_test = dict()\n",
    "# for n, (alpha, sigma) in n_to_alpha_sigma.items():\n",
    "#     n_to_extr_test[n] = extract_keyphrases(\n",
    "#         extractor=extractor, \n",
    "#         n=n, \n",
    "#         params=[(alpha, sigma)],\n",
    "#         stemming=True,\n",
    "#         docs=test_docs,\n",
    "#         df=df\n",
    "#         )\n",
    "    \n",
    "# # Serialize extracted keyphrases\n",
    "# serialize(extracted=n_to_extr_test, path=\"extractions/kpminer/test.json\")"
   ]
  },
  {
   "cell_type": "code",
   "execution_count": 5,
   "metadata": {},
   "outputs": [],
   "source": [
    "# Deserialize extracted keyphrases\n",
    "n_to_extr_test = deserialize(path=\"../extractions/kpminer/test.json\")"
   ]
  },
  {
   "cell_type": "markdown",
   "metadata": {},
   "source": [
    "### 1. Exact-match evaluation"
   ]
  },
  {
   "cell_type": "code",
   "execution_count": 6,
   "metadata": {},
   "outputs": [
    {
     "name": "stdout",
     "output_type": "stream",
     "text": [
      "Results:\n",
      "\tF1@5: 0.12\n",
      "\n",
      "\tF1@10: 0.16\n",
      "\n",
      "\tF1@15: 0.18\n",
      "\n"
     ]
    }
   ],
   "source": [
    "print(\"Results:\")\n",
    "for n, extracted in n_to_extr_test.items():\n",
    "    avg_f1 = average_metric(\n",
    "        extracted=extracted, \n",
    "        test_references=test_references, \n",
    "        metric=exact_f1\n",
    "        )\n",
    "    print(f\"\\tF1@{n}: {round(avg_f1, 2)}\\n\")"
   ]
  },
  {
   "cell_type": "markdown",
   "metadata": {},
   "source": [
    "### 2. Partial-match evaluation"
   ]
  },
  {
   "cell_type": "code",
   "execution_count": 7,
   "metadata": {},
   "outputs": [
    {
     "name": "stdout",
     "output_type": "stream",
     "text": [
      "Results:\n",
      "\tpF1@5: 0.22\n",
      "\n",
      "\tpF1@10: 0.27\n",
      "\n",
      "\tpF1@15: 0.28\n",
      "\n"
     ]
    }
   ],
   "source": [
    "print(\"Results:\")\n",
    "for n, extracted in n_to_extr_test.items():\n",
    "    avg_f1 = average_metric(\n",
    "        extracted=extracted, \n",
    "        test_references=test_references, \n",
    "        metric=partial_f1\n",
    "        )\n",
    "    print(f\"\\tpF1@{n}: {round(avg_f1, 2)}\\n\")"
   ]
  },
  {
   "cell_type": "markdown",
   "metadata": {},
   "source": [
    "### 3. Similarity"
   ]
  },
  {
   "cell_type": "code",
   "execution_count": 8,
   "metadata": {},
   "outputs": [
    {
     "name": "stdout",
     "output_type": "stream",
     "text": [
      "Results:\n",
      "\tSim@5: 0.4699999988079071\n",
      "\n",
      "\tSim@10: 0.44999998807907104\n",
      "\n",
      "\tSim@15: 0.4399999976158142\n",
      "\n"
     ]
    }
   ],
   "source": [
    "print(\"Results:\")\n",
    "for n, extracted in n_to_extr_test.items():\n",
    "    avg_sim = average_metric(\n",
    "        extracted=extracted, \n",
    "        test_references=test_references, \n",
    "        metric=similarity\n",
    "        )\n",
    "    print(f\"\\tSim@{n}: {round(avg_sim, 2)}\\n\")"
   ]
  },
  {
   "cell_type": "markdown",
   "metadata": {},
   "source": [
    "## **2. MPRank**"
   ]
  },
  {
   "cell_type": "code",
   "execution_count": 34,
   "metadata": {},
   "outputs": [],
   "source": [
    "# n_to_alpha = {5: 1.2, 10: 0.9, 15: 1.2}\n",
    "# extractor = pke.unsupervised.MultipartiteRank()\n",
    "\n",
    "# n_to_extr_test = dict()\n",
    "# for n, alpha in n_to_alpha.items():\n",
    "#     n_to_extr_test[n] = extract_keyphrases(\n",
    "#         extractor=extractor, \n",
    "#         n=n, \n",
    "#         params=[alpha],\n",
    "#         stemming=True,\n",
    "#         docs=test_docs\n",
    "#         )\n",
    "    \n",
    "# # Serialize extracted keyphrases\n",
    "# serialize(extracted=n_to_extr_test, path=\"extractions/mprank/test_exact.json\")"
   ]
  },
  {
   "cell_type": "markdown",
   "metadata": {},
   "source": [
    "### 1. Exact-match evaluation"
   ]
  },
  {
   "cell_type": "code",
   "execution_count": 9,
   "metadata": {},
   "outputs": [],
   "source": [
    "# Deserialize extracted keyphrases\n",
    "n_to_extr_test = deserialize(path=\"../extractions/mprank/test_exact.json\")"
   ]
  },
  {
   "cell_type": "code",
   "execution_count": 10,
   "metadata": {},
   "outputs": [
    {
     "name": "stdout",
     "output_type": "stream",
     "text": [
      "Results:\n",
      "\tF1@5: 0.12\n",
      "\n",
      "\tF1@10: 0.15\n",
      "\n",
      "\tF1@15: 0.14\n",
      "\n"
     ]
    }
   ],
   "source": [
    "print(\"Results:\")\n",
    "for n, extracted in n_to_extr_test.items():\n",
    "    avg_f1 = average_metric(\n",
    "        extracted=extracted, \n",
    "        test_references=test_references, \n",
    "        metric=exact_f1\n",
    "        )\n",
    "    print(f\"\\tF1@{n}: {round(avg_f1, 2)}\\n\")"
   ]
  },
  {
   "cell_type": "markdown",
   "metadata": {},
   "source": [
    "### 2. Partial-match evaluation"
   ]
  },
  {
   "cell_type": "code",
   "execution_count": null,
   "metadata": {},
   "outputs": [],
   "source": [
    "# n_to_alpha = {5: 1.3, 10: 1.3, 15: 1.3}\n",
    "# extractor = pke.unsupervised.MultipartiteRank()\n",
    "\n",
    "# n_to_extr_test = dict()\n",
    "# for n, alpha in n_to_alpha.items():\n",
    "#     n_to_extr_test[n] = extract_keyphrases(\n",
    "#         extractor=extractor, \n",
    "#         n=n, \n",
    "#         params=[alpha],\n",
    "#         stemming=True,\n",
    "#         docs=test_docs\n",
    "#         )\n",
    "\n",
    "# # Serialize extracted keyphrases\n",
    "# serialize(extracted=n_to_extr_test, path=\"extractions/mprank/test_partial.json\")"
   ]
  },
  {
   "cell_type": "code",
   "execution_count": 12,
   "metadata": {},
   "outputs": [],
   "source": [
    "# Deserialize extracted keyphrases\n",
    "n_to_extr_test = deserialize(path=\"../extractions/mprank/test_partial.json\")"
   ]
  },
  {
   "cell_type": "code",
   "execution_count": 13,
   "metadata": {},
   "outputs": [
    {
     "name": "stdout",
     "output_type": "stream",
     "text": [
      "Results:\n",
      "\tpF1@5: 0.35\n",
      "\n",
      "\tpF1@10: 0.37\n",
      "\n",
      "\tpF1@15: 0.34\n",
      "\n"
     ]
    }
   ],
   "source": [
    "print(\"Results:\")\n",
    "for n, extracted in n_to_extr_test.items():\n",
    "    avg_f1 = average_metric(\n",
    "        extracted=extracted, \n",
    "        test_references=test_references, \n",
    "        metric=partial_f1\n",
    "        )\n",
    "    print(f\"\\tpF1@{n}: {round(avg_f1, 2)}\\n\")"
   ]
  },
  {
   "cell_type": "markdown",
   "metadata": {},
   "source": [
    "### 3. Similarity"
   ]
  },
  {
   "cell_type": "code",
   "execution_count": null,
   "metadata": {},
   "outputs": [],
   "source": [
    "# n_to_alpha = {5: 1.2, 10: 1.2, 15: 1.1}\n",
    "\n",
    "# n_to_extr_test = dict()\n",
    "# for n, alpha in n_to_alpha.items():\n",
    "#     n_to_extr_test[n] = extract_keyphrases(\n",
    "#         extractor=extractor, \n",
    "#         n=n, \n",
    "#         params=[alpha],\n",
    "#         stemming=True,\n",
    "#         docs=test_docs\n",
    "#         )\n",
    "\n",
    "# # Serialize extracted keyphrases\n",
    "# serialize(extracted=n_to_extr_test, path=\"extractions/mprank/test_sim.json\")"
   ]
  },
  {
   "cell_type": "code",
   "execution_count": 14,
   "metadata": {},
   "outputs": [],
   "source": [
    "# Deserialize extracted keyphrases\n",
    "n_to_extr_test = deserialize(path=\"../extractions/mprank/test_sim.json\")"
   ]
  },
  {
   "cell_type": "code",
   "execution_count": 15,
   "metadata": {},
   "outputs": [
    {
     "name": "stdout",
     "output_type": "stream",
     "text": [
      "Results:\n",
      "\tSim@5: 0.5299999713897705\n",
      "\n",
      "\tSim@10: 0.5\n",
      "\n",
      "\tSim@15: 0.4699999988079071\n",
      "\n"
     ]
    }
   ],
   "source": [
    "print(\"Results:\")\n",
    "for n, extracted in n_to_extr_test.items():\n",
    "    avg_sim = average_metric(\n",
    "        extracted=extracted, \n",
    "        test_references=test_references, \n",
    "        metric=similarity\n",
    "        )\n",
    "    print(f\"\\tSim@{n}: {round(avg_sim, 2)}\\n\")"
   ]
  },
  {
   "cell_type": "markdown",
   "metadata": {},
   "source": [
    "## **3. EmbedRank**"
   ]
  },
  {
   "cell_type": "markdown",
   "metadata": {},
   "source": [
    "### 1. Exact-match evaluation"
   ]
  },
  {
   "cell_type": "code",
   "execution_count": 19,
   "metadata": {},
   "outputs": [],
   "source": [
    "# # Deserialize extracted keyphrases\n",
    "# n_to_extr_test_raw = deserialize(path=\"extractions/embedrank/raw/test_exact.json\")\n",
    "\n",
    "# # Stem extracted keyphrases\n",
    "# n_to_extr_test = perform_stemming(extracted_raw=n_to_extr_test_raw)\n",
    "\n",
    "# # Serialize stemmed extracted keyphrases\n",
    "# serialize(extracted=n_to_extr_test, path=\"extractions/embedrank/stemmed/test_exact.json\")"
   ]
  },
  {
   "cell_type": "code",
   "execution_count": 17,
   "metadata": {},
   "outputs": [],
   "source": [
    "# Deserialize stemmed extracted keyphrases\n",
    "n_to_extr_test = deserialize(path=\"../extractions/embedrank/stemmed/test_exact.json\")"
   ]
  },
  {
   "cell_type": "code",
   "execution_count": 18,
   "metadata": {},
   "outputs": [
    {
     "name": "stdout",
     "output_type": "stream",
     "text": [
      "Results:\n",
      "\tF1@5: 0.02\n",
      "\n",
      "\tF1@10: 0.03\n",
      "\n",
      "\tF1@15: 0.03\n",
      "\n"
     ]
    }
   ],
   "source": [
    "print(\"Results:\")\n",
    "for n, extracted in n_to_extr_test.items():\n",
    "    avg_f1 = average_metric(\n",
    "        extracted=extracted, \n",
    "        test_references=test_references, \n",
    "        metric=exact_f1\n",
    "        )\n",
    "    print(f\"\\tF1@{n}: {round(avg_f1, 2)}\\n\")"
   ]
  },
  {
   "cell_type": "markdown",
   "metadata": {},
   "source": [
    "### 2. Partial-match evaluation"
   ]
  },
  {
   "cell_type": "code",
   "execution_count": 22,
   "metadata": {},
   "outputs": [],
   "source": [
    "# # Deserialize extracted keyphrases\n",
    "# n_to_extr_test_raw = deserialize(path=\"extractions/embedrank/raw/test_partial.json\")\n",
    "\n",
    "# # Stem extracted keyphrases\n",
    "# n_to_extr_test = perform_stemming(extracted_raw=n_to_extr_test_raw)\n",
    "\n",
    "# # Serialize stemmed extracted keyphrases\n",
    "# serialize(extracted=n_to_extr_test, path=\"extractions/embedrank/stemmed/test_partial.json\")"
   ]
  },
  {
   "cell_type": "code",
   "execution_count": 19,
   "metadata": {},
   "outputs": [],
   "source": [
    "# Deserialize stemmed extracted keyphrases\n",
    "n_to_extr_test = deserialize(path=\"../extractions/embedrank/stemmed/test_partial.json\")"
   ]
  },
  {
   "cell_type": "code",
   "execution_count": 20,
   "metadata": {},
   "outputs": [
    {
     "name": "stdout",
     "output_type": "stream",
     "text": [
      "Results:\n",
      "\tpF1@5: 0.38\n",
      "\n",
      "\tpF1@10: 0.4\n",
      "\n",
      "\tpF1@15: 0.37\n",
      "\n"
     ]
    }
   ],
   "source": [
    "print(\"Results:\")\n",
    "for n, extracted in n_to_extr_test.items():\n",
    "    avg_f1 = average_metric(\n",
    "        extracted=extracted, \n",
    "        test_references=test_references, \n",
    "        metric=partial_f1\n",
    "        )\n",
    "    print(f\"\\tpF1@{n}: {round(avg_f1, 2)}\\n\")"
   ]
  },
  {
   "cell_type": "markdown",
   "metadata": {},
   "source": [
    "### 3. Similarity"
   ]
  },
  {
   "cell_type": "code",
   "execution_count": 25,
   "metadata": {},
   "outputs": [],
   "source": [
    "# # Deserialize extracted keyphrases\n",
    "# n_to_extr_test_raw = deserialize(path=\"extractions/embedrank/raw/test_sim.json\")\n",
    "\n",
    "# # Stem extracted keyphrases\n",
    "# n_to_extr_test = perform_stemming(extracted_raw=n_to_extr_test_raw)\n",
    "\n",
    "# # Serialize stemmed extracted keyphrases\n",
    "# serialize(extracted=n_to_extr_test, path=\"extractions/embedrank/stemmed/test_sim.json\")"
   ]
  },
  {
   "cell_type": "code",
   "execution_count": 21,
   "metadata": {},
   "outputs": [],
   "source": [
    "# Deserialize stemmed extracted keyphrases\n",
    "n_to_extr_test = deserialize(path=\"../extractions/embedrank/stemmed/test_sim.json\")"
   ]
  },
  {
   "cell_type": "code",
   "execution_count": 22,
   "metadata": {},
   "outputs": [
    {
     "name": "stdout",
     "output_type": "stream",
     "text": [
      "Results:\n",
      "\tSim@5: 0.4699999988079071\n",
      "\n",
      "\tSim@10: 0.4399999976158142\n",
      "\n",
      "\tSim@15: 0.41999998688697815\n",
      "\n"
     ]
    }
   ],
   "source": [
    "print(\"Results:\")\n",
    "for n, extracted in n_to_extr_test.items():\n",
    "    avg_sim = average_metric(\n",
    "        extracted=extracted, \n",
    "        test_references=test_references, \n",
    "        metric=similarity\n",
    "        )\n",
    "    print(f\"\\tSim@{n}: {round(avg_sim, 2)}\\n\")"
   ]
  }
 ],
 "metadata": {
  "kernelspec": {
   "display_name": "pke",
   "language": "python",
   "name": "python3"
  },
  "language_info": {
   "codemirror_mode": {
    "name": "ipython",
    "version": 3
   },
   "file_extension": ".py",
   "mimetype": "text/x-python",
   "name": "python",
   "nbconvert_exporter": "python",
   "pygments_lexer": "ipython3",
   "version": "3.11.10"
  }
 },
 "nbformat": 4,
 "nbformat_minor": 2
}
