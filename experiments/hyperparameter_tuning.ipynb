{
 "cells": [
  {
   "cell_type": "markdown",
   "metadata": {},
   "source": [
    "# **Hyperparameter tuning for KPMiner, MPRank & EmbedRank**"
   ]
  },
  {
   "cell_type": "code",
   "execution_count": 1,
   "metadata": {},
   "outputs": [],
   "source": [
    "import os\n",
    "from itertools import product\n",
    "from datasets import load_dataset\n",
    "\n",
    "from util.evaluation_metrics import *\n",
    "from util.evaluation_util import *"
   ]
  },
  {
   "cell_type": "code",
   "execution_count": 2,
   "metadata": {},
   "outputs": [],
   "source": [
    "dir = \"../extractions/kpminer/\"\n",
    "if not os.path.exists(dir):\n",
    "    os.makedirs(dir)\n",
    "\n",
    "dir = \"../extractions/mprank/\"\n",
    "if not os.path.exists(dir):\n",
    "    os.makedirs(dir)"
   ]
  },
  {
   "cell_type": "markdown",
   "metadata": {},
   "source": [
    "## **0. Preprocessing of dataset**"
   ]
  },
  {
   "cell_type": "code",
   "execution_count": 3,
   "metadata": {},
   "outputs": [
    {
     "data": {
      "application/vnd.jupyter.widget-view+json": {
       "model_id": "bb9c40df857547a28621d486ea618c71",
       "version_major": 2,
       "version_minor": 0
      },
      "text/plain": [
       "  0%|          | 0/144 [00:00<?, ?it/s]"
      ]
     },
     "metadata": {},
     "output_type": "display_data"
    }
   ],
   "source": [
    "semeval2010 = load_dataset(\"midas/semeval2010\", \"raw\") # Use \"extraction\"-version of dataset next time\n",
    "train_docs, train_references = preprocess_dataset(semeval2010, \"train\")"
   ]
  },
  {
   "cell_type": "markdown",
   "metadata": {},
   "source": [
    "## **1. KPMiner**"
   ]
  },
  {
   "cell_type": "code",
   "execution_count": 4,
   "metadata": {},
   "outputs": [],
   "source": [
    "alphas = [2.2, 2.3, 2.4, 2.5]\n",
    "sigmas = [2.8, 3.0, 3.2, 3.4]\n",
    "df = pke.pke.load_document_frequency_file(\"df-semeval2010.tsv.gz\")\n",
    "extractor = pke.unsupervised.KPMiner()"
   ]
  },
  {
   "cell_type": "code",
   "execution_count": 5,
   "metadata": {},
   "outputs": [],
   "source": [
    "# n_to_extr_train = dict()\n",
    "# for n in [5, 10, 15]:\n",
    "#     n_to_extr_train[n] = extract_keyphrases(\n",
    "#         extractor = extractor,\n",
    "#         n=n,\n",
    "#         params=list(product(alphas, sigmas)),\n",
    "#         stemming=True,\n",
    "#         docs=train_docs, \n",
    "#         df=df\n",
    "#         )\n",
    "    \n",
    "# # Serialize extracted keyphrases\n",
    "# serialize(extracted=n_to_extr_train, path=\"../extractions/kpminer/train.json\")"
   ]
  },
  {
   "cell_type": "code",
   "execution_count": 6,
   "metadata": {},
   "outputs": [],
   "source": [
    "# Deserialize extracted keyphrases\n",
    "n_to_extr_train = deserialize(path=\"../extractions/kpminer/train.json\")"
   ]
  },
  {
   "cell_type": "markdown",
   "metadata": {},
   "source": [
    "### 1. Exact-match evaluation"
   ]
  },
  {
   "cell_type": "code",
   "execution_count": 7,
   "metadata": {},
   "outputs": [
    {
     "name": "stdout",
     "output_type": "stream",
     "text": [
      "The best score for n=5 was 0.10729850314581132 for alpha=2.2 and sigma=2.8.\n",
      "The best score for n=10 was 0.13735311518983984 for alpha=2.2 and sigma=2.8.\n",
      "The best score for n=15 was 0.14427517244925336 for alpha=2.2 and sigma=2.8.\n"
     ]
    }
   ],
   "source": [
    "for n, extractions in n_to_extr_train.items():\n",
    "    results = compute_scores(\n",
    "        metric=exact_f1, \n",
    "        params=list(product(alphas, sigmas)),\n",
    "        extracted_keyphrases=extractions, \n",
    "        references=train_references\n",
    "        )\n",
    "    best_alpha_sigma = max(results, key=results.get)\n",
    "    print(f\"The best score for n={n} was {results[best_alpha_sigma]} for alpha={best_alpha_sigma[0]} and sigma={best_alpha_sigma[1]}.\")"
   ]
  },
  {
   "cell_type": "markdown",
   "metadata": {},
   "source": [
    "### 2. Partial-match evaluation"
   ]
  },
  {
   "cell_type": "code",
   "execution_count": 8,
   "metadata": {},
   "outputs": [
    {
     "name": "stdout",
     "output_type": "stream",
     "text": [
      "The best score for n=5 was 0.21563546341668094 for alpha=2.2 and sigma=2.8.\n",
      "The best score for n=10 was 0.2589318774320937 for alpha=2.2 and sigma=2.8.\n",
      "The best score for n=15 was 0.2653923980046201 for alpha=2.2 and sigma=2.8.\n"
     ]
    }
   ],
   "source": [
    "for n, extractions in n_to_extr_train.items():\n",
    "    results = compute_scores(\n",
    "        metric=partial_f1, \n",
    "        params=list(product(alphas, sigmas)),\n",
    "        extracted_keyphrases=extractions, \n",
    "        references=train_references\n",
    "        )\n",
    "    best_alpha_sigma = max(results, key=results.get)\n",
    "    print(f\"The best score for n={n} was {results[best_alpha_sigma]} for alpha={best_alpha_sigma[0]} and sigma={best_alpha_sigma[1]}.\")"
   ]
  },
  {
   "cell_type": "markdown",
   "metadata": {},
   "source": [
    "### 3. Similarity"
   ]
  },
  {
   "cell_type": "code",
   "execution_count": 9,
   "metadata": {},
   "outputs": [
    {
     "name": "stdout",
     "output_type": "stream",
     "text": [
      "The best score for n=5 was 0.4626719653606415 for alpha=2.2 and sigma=2.8.\n",
      "The best score for n=10 was 0.43776801228523254 for alpha=2.2 and sigma=2.8.\n",
      "The best score for n=15 was 0.4260585606098175 for alpha=2.2 and sigma=2.8.\n"
     ]
    }
   ],
   "source": [
    "for n, extractions in n_to_extr_train.items():\n",
    "    results = compute_scores(\n",
    "        metric=similarity, \n",
    "        params=list(product(alphas, sigmas)),\n",
    "        extracted_keyphrases=extractions, \n",
    "        references=train_references\n",
    "        )\n",
    "    best_alpha_sigma = max(results, key=results.get)\n",
    "    print(f\"The best score for n={n} was {results[best_alpha_sigma]} for alpha={best_alpha_sigma[0]} and sigma={best_alpha_sigma[1]}.\")"
   ]
  },
  {
   "cell_type": "markdown",
   "metadata": {},
   "source": [
    "## **2. MPRank**"
   ]
  },
  {
   "cell_type": "code",
   "execution_count": 10,
   "metadata": {},
   "outputs": [],
   "source": [
    "alphas = [0.9, 1.0, 1.1, 1.2, 1.3]\n",
    "extractor = pke.unsupervised.MultipartiteRank()"
   ]
  },
  {
   "cell_type": "code",
   "execution_count": 11,
   "metadata": {},
   "outputs": [],
   "source": [
    "# n_to_extr_train = dict()\n",
    "# for n in [5, 10, 15]:\n",
    "#     n_to_extr_train[n] = extract_keyphrases(\n",
    "#         extractor = extractor,\n",
    "#         n=n,\n",
    "#         params=alphas,\n",
    "#         stemming=True,\n",
    "#         docs=train_docs\n",
    "#         )\n",
    "    \n",
    "# # Serialize extracted keyphrases\n",
    "# serialize(extracted=n_to_extr_train, path=\"../extractions/mprank/train.json\")"
   ]
  },
  {
   "cell_type": "code",
   "execution_count": 11,
   "metadata": {},
   "outputs": [],
   "source": [
    "# Deserialize extracted keyphrases\n",
    "n_to_extr_train = deserialize(path=\"../extractions/mprank/train.json\")"
   ]
  },
  {
   "cell_type": "markdown",
   "metadata": {},
   "source": [
    "### 1. Exact-match evaluation"
   ]
  },
  {
   "cell_type": "code",
   "execution_count": 12,
   "metadata": {},
   "outputs": [
    {
     "name": "stdout",
     "output_type": "stream",
     "text": [
      "The highest F-score for n=5 was 0.12679910784647197 for alpha=1.2.\n",
      "The highest F-score for n=10 was 0.14485760385389593 for alpha=0.9.\n",
      "The highest F-score for n=15 was 0.15068132628354636 for alpha=1.2.\n"
     ]
    }
   ],
   "source": [
    "for n, extractions in n_to_extr_train.items():\n",
    "    results = compute_scores(\n",
    "        metric=exact_f1, \n",
    "        params=alphas,\n",
    "        extracted_keyphrases=extractions, \n",
    "        references=train_references\n",
    "        )\n",
    "    best_alpha = max(results, key=results.get)\n",
    "    print(f\"The highest F-score for n={n} was {results[best_alpha]} for alpha={best_alpha}.\")"
   ]
  },
  {
   "cell_type": "markdown",
   "metadata": {},
   "source": [
    "### 2. Partial-match evaluation"
   ]
  },
  {
   "cell_type": "code",
   "execution_count": 13,
   "metadata": {},
   "outputs": [
    {
     "name": "stdout",
     "output_type": "stream",
     "text": [
      "The highest F-score for n=5 was 0.3195913624415944 for alpha=1.3.\n",
      "The highest F-score for n=10 was 0.3506735147909677 for alpha=1.3.\n",
      "The highest F-score for n=15 was 0.34312121520284694 for alpha=1.3.\n"
     ]
    }
   ],
   "source": [
    "for n, extractions in n_to_extr_train.items():\n",
    "    results = compute_scores(\n",
    "        metric=partial_f1, \n",
    "        params=alphas,\n",
    "        extracted_keyphrases=extractions, \n",
    "        references=train_references\n",
    "        )\n",
    "    best_alpha = max(results, key=results.get)\n",
    "    print(f\"The highest F-score for n={n} was {results[best_alpha]} for alpha={best_alpha}.\")"
   ]
  },
  {
   "cell_type": "markdown",
   "metadata": {},
   "source": [
    "### 3. Similarity"
   ]
  },
  {
   "cell_type": "code",
   "execution_count": 14,
   "metadata": {},
   "outputs": [
    {
     "name": "stdout",
     "output_type": "stream",
     "text": [
      "The highest F-score for n=5 was 0.5429205298423767 for alpha=1.2.\n",
      "The highest F-score for n=10 was 0.4966494143009186 for alpha=1.2.\n",
      "The highest F-score for n=15 was 0.4713509976863861 for alpha=1.1.\n"
     ]
    }
   ],
   "source": [
    "for n, extractions in n_to_extr_train.items():\n",
    "    results = compute_scores(\n",
    "        metric=similarity, \n",
    "        params=alphas,\n",
    "        extracted_keyphrases=extractions, \n",
    "        references=train_references\n",
    "        )\n",
    "    best_alpha = max(results, key=results.get)\n",
    "    print(f\"The highest F-score for n={n} was {results[best_alpha]} for alpha={best_alpha}.\")"
   ]
  },
  {
   "cell_type": "markdown",
   "metadata": {},
   "source": [
    "## **3. EmbedRank**"
   ]
  },
  {
   "cell_type": "markdown",
   "metadata": {},
   "source": [
    "**Note:** Extract and serialize keyphrases in a different virtual environment first (because of dependency conflicts)."
   ]
  },
  {
   "cell_type": "markdown",
   "metadata": {},
   "source": [
    "### 0. Stemming of extracted keyphrases"
   ]
  },
  {
   "cell_type": "code",
   "execution_count": 16,
   "metadata": {},
   "outputs": [],
   "source": [
    "# # Deserialize extracted keyphrases\n",
    "# n_to_extr_train_raw = deserialize(path=\"../extractions/embedrank/raw/train.json\")\n",
    "\n",
    "# # Stem extracted keyphrases\n",
    "# n_to_extr_train = perform_stemming(extracted_raw=n_to_extr_train_raw)\n",
    "\n",
    "# # Serialized stemmed extracted keyphrases\n",
    "# serialize(extracted=n_to_extr_train, path=\"../extractions/embedrank/stemmed/train.json\")"
   ]
  },
  {
   "cell_type": "code",
   "execution_count": 15,
   "metadata": {},
   "outputs": [],
   "source": [
    "# Deserialize stemmed extracted keyphrases\n",
    "n_to_extr_train = deserialize(path=\"../extractions/embedrank/stemmed/train.json\")"
   ]
  },
  {
   "cell_type": "code",
   "execution_count": 16,
   "metadata": {},
   "outputs": [],
   "source": [
    "betas = [0.4, 0.45, 0.5, 0.55, 0.6]"
   ]
  },
  {
   "cell_type": "markdown",
   "metadata": {},
   "source": [
    "### 1. Exact-match evaluation"
   ]
  },
  {
   "cell_type": "code",
   "execution_count": 17,
   "metadata": {},
   "outputs": [
    {
     "name": "stdout",
     "output_type": "stream",
     "text": [
      "The highest F-score for n=5 was 0.03029879184903695 for beta=0.45.\n",
      "The highest F-score for n=10 was 0.030325962305657126 for beta=0.45.\n",
      "The highest F-score for n=15 was 0.031178201850416896 for beta=0.45.\n"
     ]
    }
   ],
   "source": [
    "for n, extractions in n_to_extr_train.items():\n",
    "    results = compute_scores(\n",
    "        metric=exact_f1, \n",
    "        params=betas,\n",
    "        extracted_keyphrases=extractions, \n",
    "        references=train_references\n",
    "        )\n",
    "    best_beta = max(results, key=results.get)\n",
    "    print(f\"The highest F-score for n={n} was {results[best_beta]} for beta={best_beta}.\")"
   ]
  },
  {
   "cell_type": "markdown",
   "metadata": {},
   "source": [
    "### 2. Partial-match evaluation"
   ]
  },
  {
   "cell_type": "code",
   "execution_count": 18,
   "metadata": {},
   "outputs": [
    {
     "name": "stdout",
     "output_type": "stream",
     "text": [
      "The highest F-score for n=5 was 0.38896559766120287 for beta=0.55.\n",
      "The highest F-score for n=10 was 0.4104219635039519 for beta=0.55.\n",
      "The highest F-score for n=15 was 0.3895602980733236 for beta=0.55.\n"
     ]
    }
   ],
   "source": [
    "for n, extractions in n_to_extr_train.items():\n",
    "    results = compute_scores(\n",
    "        metric=partial_f1, \n",
    "        params=betas,\n",
    "        extracted_keyphrases=extractions, \n",
    "        references=train_references\n",
    "        )\n",
    "    best_beta = max(results, key=results.get)\n",
    "    print(f\"The highest F-score for n={n} was {results[best_beta]} for beta={best_beta}.\")"
   ]
  },
  {
   "cell_type": "markdown",
   "metadata": {},
   "source": [
    "### 3. Similarity"
   ]
  },
  {
   "cell_type": "code",
   "execution_count": 20,
   "metadata": {},
   "outputs": [
    {
     "name": "stdout",
     "output_type": "stream",
     "text": [
      "The highest F-score for n=5 was 0.476428359746933 for beta=0.6.\n",
      "The highest F-score for n=10 was 0.4366932809352875 for beta=0.6.\n",
      "The highest F-score for n=15 was 0.42005157470703125 for beta=0.6.\n"
     ]
    }
   ],
   "source": [
    "for n, extractions in n_to_extr_train.items():\n",
    "    results = compute_scores(\n",
    "        metric=similarity, \n",
    "        params=betas,\n",
    "        extracted_keyphrases=extractions, \n",
    "        references=train_references\n",
    "        )\n",
    "    best_beta = max(results, key=results.get)\n",
    "    print(f\"The highest F-score for n={n} was {results[best_beta]} for beta={best_beta}.\")"
   ]
  }
 ],
 "metadata": {
  "kernelspec": {
   "display_name": "pke",
   "language": "python",
   "name": "python3"
  },
  "language_info": {
   "codemirror_mode": {
    "name": "ipython",
    "version": 3
   },
   "file_extension": ".py",
   "mimetype": "text/x-python",
   "name": "python",
   "nbconvert_exporter": "python",
   "pygments_lexer": "ipython3",
   "version": "3.11.10"
  }
 },
 "nbformat": 4,
 "nbformat_minor": 2
}
