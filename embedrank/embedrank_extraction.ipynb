{
 "cells": [
  {
   "cell_type": "markdown",
   "metadata": {},
   "source": [
    "# **Extracting keyphrases with EmbedRank**"
   ]
  },
  {
   "cell_type": "code",
   "execution_count": 10,
   "metadata": {},
   "outputs": [],
   "source": [
    "import os\n",
    "import embedrank.launch as launch\n",
    "import json\n",
    "import requests"
   ]
  },
  {
   "cell_type": "markdown",
   "metadata": {},
   "source": [
    "**Note:** Run Stanford Core NLP Server before continuing!"
   ]
  },
  {
   "cell_type": "code",
   "execution_count": 2,
   "metadata": {},
   "outputs": [
    {
     "data": {
      "text/plain": [
       "200"
      ]
     },
     "execution_count": 2,
     "metadata": {},
     "output_type": "execute_result"
    }
   ],
   "source": [
    "r = requests.get(url=\"http://localhost:9000\")\n",
    "r.status_code"
   ]
  },
  {
   "cell_type": "code",
   "execution_count": 3,
   "metadata": {},
   "outputs": [],
   "source": [
    "embedding_distributor = launch.load_local_embedding_distributor()\n",
    "pos_tagger = launch.load_local_corenlp_pos_tagger()"
   ]
  },
  {
   "cell_type": "markdown",
   "metadata": {},
   "source": [
    "## Preprocessing of datasets"
   ]
  },
  {
   "cell_type": "code",
   "execution_count": 4,
   "metadata": {},
   "outputs": [
    {
     "name": "stdout",
     "output_type": "stream",
     "text": [
      "144\n"
     ]
    }
   ],
   "source": [
    "train_docs = []\n",
    "documents_dir = \"data/semeval2010-train-docs\"\n",
    "with open(\"data/train_docs_order.txt\", \"r\", encoding=\"utf\") as f:\n",
    "    train_docs_order = f.read().split()\n",
    "for doc_id in train_docs_order:\n",
    "    filename = doc_id + \".txt\"\n",
    "    with open(f\"{documents_dir}/{filename}\", \"r\", encoding=\"utf\") as f:\n",
    "        doc = f.read()\n",
    "    train_docs.append(doc)\n",
    "\n",
    "print(len(train_docs))"
   ]
  },
  {
   "cell_type": "code",
   "execution_count": 5,
   "metadata": {},
   "outputs": [
    {
     "name": "stdout",
     "output_type": "stream",
     "text": [
      "100\n"
     ]
    }
   ],
   "source": [
    "test_docs = []\n",
    "documents_dir = \"data/semeval2010-test-docs\"\n",
    "with open(\"data/test_docs_order.txt\", \"r\", encoding=\"utf\") as f:\n",
    "    test_docs_order = f.read().split()\n",
    "for doc_id in test_docs_order:\n",
    "    filename = doc_id + \".txt\"\n",
    "    with open(f\"{documents_dir}/{filename}\", \"r\", encoding=\"utf\") as f:\n",
    "        doc = f.read()\n",
    "    test_docs.append(doc)\n",
    "\n",
    "print(len(test_docs))"
   ]
  },
  {
   "cell_type": "code",
   "execution_count": 6,
   "metadata": {},
   "outputs": [],
   "source": [
    "def extract_keyphrases(docs, n, betas):\n",
    "    extracted_keyphrases = [] # Note: Unstemmed\n",
    "    for doc in docs:\n",
    "        doc_keyphrases = []\n",
    "        for beta in betas:\n",
    "            beta_keyphrases = launch.extract_keyphrases(\n",
    "                embedding_distrib=embedding_distributor,\n",
    "                ptagger=pos_tagger,\n",
    "                raw_text=doc,\n",
    "                N=n,\n",
    "                lang=\"en\",\n",
    "                beta=beta\n",
    "                )[0]\n",
    "            if len(betas) == 1:\n",
    "                doc_keyphrases.extend(beta_keyphrases)\n",
    "            else:\n",
    "                doc_keyphrases.append(beta_keyphrases)\n",
    "        extracted_keyphrases.append(doc_keyphrases)\n",
    "    \n",
    "    return extracted_keyphrases"
   ]
  },
  {
   "cell_type": "markdown",
   "metadata": {},
   "source": [
    "## Extract keyphrases from train set"
   ]
  },
  {
   "cell_type": "code",
   "execution_count": null,
   "metadata": {},
   "outputs": [],
   "source": [
    "dir = \"../extractions/embedrank/raw/\"\n",
    "if not os.path.exists(dir):\n",
    "    os.makedirs(dir)"
   ]
  },
  {
   "cell_type": "code",
   "execution_count": 11,
   "metadata": {},
   "outputs": [],
   "source": [
    "# betas = [0.4, 0.45, 0.5, 0.55, 0.6]\n",
    "\n",
    "# n_to_extr_train = dict()\n",
    "# for n in [5, 10, 15]:\n",
    "#     n_to_extr_train[n] = extract_keyphrases(docs=train_docs, n=n, betas=betas)\n",
    "\n",
    "# # Serialize extracted keyphrases\n",
    "# n_to_extr_train_json = json.dumps(n_to_extr_train)\n",
    "# with open(\"../extractions/embedrank/raw/train.json\", \"w+\") as f:\n",
    "#     f.write(n_to_extr_train_json)"
   ]
  },
  {
   "cell_type": "markdown",
   "metadata": {},
   "source": [
    "## Extract keyphrases from test set"
   ]
  },
  {
   "cell_type": "markdown",
   "metadata": {},
   "source": [
    "### 1. Exact-match evaluation"
   ]
  },
  {
   "cell_type": "code",
   "execution_count": 12,
   "metadata": {},
   "outputs": [],
   "source": [
    "# n_to_beta = {5: 0.45, 10: 0.45, 15: 0.45}\n",
    "# n_to_extr_test = dict()\n",
    "\n",
    "# for n, beta in n_to_beta.items():\n",
    "#     n_to_extr_test[n] = extract_keyphrases(\n",
    "#         docs=test_docs, \n",
    "#         n=n, \n",
    "#         betas=[beta]\n",
    "#         )\n",
    "    \n",
    "# # Serialize extracted keyphrasess\n",
    "# n_to_extr_test_json = json.dumps(n_to_extr_test)\n",
    "# with open(\"../extractions/embedrank/raw/test_exact.json\", \"w+\") as f:\n",
    "#     f.write(n_to_extr_test_json)"
   ]
  },
  {
   "cell_type": "markdown",
   "metadata": {},
   "source": [
    "### 2. Partial-match evaluation"
   ]
  },
  {
   "cell_type": "code",
   "execution_count": 13,
   "metadata": {},
   "outputs": [],
   "source": [
    "# n_to_beta = {5: 0.55, 10: 0.55, 15: 0.55}\n",
    "# n_to_extr_test = dict()\n",
    "\n",
    "# for n, beta in n_to_beta.items():\n",
    "#     n_to_extr_test[n] = extract_keyphrases(\n",
    "#         docs=test_docs, \n",
    "#         n=n, \n",
    "#         betas=[beta]\n",
    "#         )\n",
    "    \n",
    "# # Serialize extracted keyphrasess\n",
    "# n_to_extr_test_json = json.dumps(n_to_extr_test)\n",
    "# with open(\"../extractions/embedrank/raw/test_partial.json\", \"w+\") as f:\n",
    "#     f.write(n_to_extr_test_json)"
   ]
  },
  {
   "cell_type": "markdown",
   "metadata": {},
   "source": [
    "### 3. Cross Encoder-based evaluation"
   ]
  },
  {
   "cell_type": "code",
   "execution_count": 14,
   "metadata": {},
   "outputs": [],
   "source": [
    "# n_to_beta = {5: 0.6, 10: 0.6, 15: 0.6}\n",
    "# n_to_extr_test = dict()\n",
    "\n",
    "# for n, beta in n_to_beta.items():\n",
    "#     n_to_extr_test[n] = extract_keyphrases(\n",
    "#         docs=test_docs, \n",
    "#         n=n, \n",
    "#         betas=[beta]\n",
    "#         )\n",
    "    \n",
    "# # Serialize extracted keyphrasess\n",
    "# n_to_extr_test_json = json.dumps(n_to_extr_test)\n",
    "# with open(\"../extractions/embedrank/raw/test_sim.json\", \"w+\") as f:\n",
    "#     f.write(n_to_extr_test_json)"
   ]
  }
 ],
 "metadata": {
  "kernelspec": {
   "display_name": "embedrank2",
   "language": "python",
   "name": "python3"
  },
  "language_info": {
   "codemirror_mode": {
    "name": "ipython",
    "version": 3
   },
   "file_extension": ".py",
   "mimetype": "text/x-python",
   "name": "python",
   "nbconvert_exporter": "python",
   "pygments_lexer": "ipython3",
   "version": "3.6.15"
  }
 },
 "nbformat": 4,
 "nbformat_minor": 2
}
